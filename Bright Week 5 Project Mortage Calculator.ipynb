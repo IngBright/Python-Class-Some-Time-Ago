{
 "cells": [
  {
   "cell_type": "code",
   "execution_count": 10,
   "metadata": {},
   "outputs": [],
   "source": [
    "#input mortgage loan principal\n",
    "\n",
    "principal = float(input('Please enter mortgage loan principal in GHS: '))\n",
    "\n",
    "#input percent annual interest\n",
    "interest = float(input('Please enter the percent annual interest as a percentage: '))\n",
    "\n",
    "#years to pay off mortgage\n",
    "year= float(input('Please enter the number of years to pay off the mortgage: '))\n"
   ]
  },
  {
   "cell_type": "code",
   "execution_count": 11,
   "metadata": {},
   "outputs": [],
   "source": [
    "#formula and calculations\n",
    "#convert\n",
    "# M = P [ i(1 + i)^n ] / [ (1 + i)^n – 1]\n",
    "#M = Total monthly payment\n",
    "#P = The total amount of your loan\n",
    "#i = Your interest rate, as a monthly percentage\n",
    "#N = The total amount of months in your timeline for paying off your mortgage.\n",
    "#convert interest\n",
    "i = (interest / 100) / 12\n",
    "N = year * 12\n",
    "\n",
    "#calculate m(total monthly payment)\n",
    "Total_monthly_payment = principal * (i * (1 + i) ** N) / ((1 + i) ** N - 1)\n",
    "\n",
    "Total_amount_paid = Total_monthly_payment * N"
   ]
  },
  {
   "cell_type": "code",
   "execution_count": 12,
   "metadata": {},
   "outputs": [
    {
     "name": "stdout",
     "output_type": "stream",
     "text": [
      "Welcome to Mr. Mawuli Mortgage Services\n",
      "\n",
      "\n",
      " \u001b[1m Result ... \u001b[0m \n",
      "For a 30.0-year mortgage loan of GHS100000.0 at an annual interest rate of 7.5 % you pay\n",
      "\n",
      "\n",
      "\n",
      " \u001b[1m699.21 monthly \u001b[0m\n",
      "----------------------------\n",
      "\n",
      "\n",
      "\n",
      " \u001b[1m Total amount paid will be \u001b[0m 251717.22\n",
      "----------------------------\n",
      "\n",
      "  Thank You\n"
     ]
    }
   ],
   "source": [
    "#print and display\n",
    "print('Welcome to Mr. Mawuli Mortgage Services')\n",
    "print()\n",
    "print()\n",
    "print(f\" \\033[1m Result ... \\033[0m \\nFor a {year}-year mortgage loan of GHS{principal} at an annual interest rate of {interest} % you pay\")\n",
    "print()\n",
    "print()\n",
    "print()\n",
    "\n",
    "print(f\" \\033[1m{round(Total_monthly_payment, 2)} monthly \\033[0m\")\n",
    "print(\"----------------------------\")\n",
    "print()\n",
    "print()\n",
    "print()\n",
    "\n",
    "print(f\" \\033[1m Total amount paid will be \\033[0m {round(Total_amount_paid, 2)}\")\n",
    "print(\"----------------------------\")\n",
    "print()\n",
    "print('  Thank You')"
   ]
  }
 ],
 "metadata": {
  "kernelspec": {
   "display_name": "Python 3",
   "language": "python",
   "name": "python3"
  },
  "language_info": {
   "codemirror_mode": {
    "name": "ipython",
    "version": 3
   },
   "file_extension": ".py",
   "mimetype": "text/x-python",
   "name": "python",
   "nbconvert_exporter": "python",
   "pygments_lexer": "ipython3",
   "version": "3.11.3"
  },
  "orig_nbformat": 4
 },
 "nbformat": 4,
 "nbformat_minor": 2
}
